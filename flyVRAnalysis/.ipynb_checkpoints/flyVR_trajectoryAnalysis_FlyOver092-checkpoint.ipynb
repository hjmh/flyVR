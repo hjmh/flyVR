{
 "cells": [
  {
   "cell_type": "code",
   "execution_count": 2,
   "metadata": {
    "collapsed": true
   },
   "outputs": [],
   "source": [
    "import numpy as np\n",
    "\n",
    "import matplotlib.pyplot as plt\n",
    "import matplotlib.patches as patches\n",
    "from matplotlib import gridspec\n",
    "import matplotlib.colors as colors\n",
    "from os import listdir\n",
    "import seaborn as sns\n",
    "\n",
    "\n",
    "%matplotlib inline"
   ]
  },
  {
   "cell_type": "code",
   "execution_count": 8,
   "metadata": {
    "collapsed": false
   },
   "outputs": [
    {
     "name": "stdout",
     "output_type": "stream",
     "text": [
      "testFlym01_FlyOver092_singleObjectForest_1cm4cmCone_12cmHex_p2_out_151019205231.txt\n"
     ]
    }
   ],
   "source": [
    "dataDir = '/Volumes/jayaramanlab/Hannah/Projects/FlyVR/1_Experiments/FlyOver092_tests/'\n",
    "expDir = dataDir + 'testFlym01/'\n",
    "FODataFiles = listdir(expDir)\n",
    "FODataFile = FODataFiles[0]\n",
    "\n",
    "print(FODataFile)"
   ]
  },
  {
   "cell_type": "code",
   "execution_count": 9,
   "metadata": {
    "collapsed": false
   },
   "outputs": [
    {
     "data": {
      "text/plain": [
       "['Time(sec)',\n",
       " 'X(mm)',\n",
       " 'Y(mm)',\n",
       " 'Z(mm)',\n",
       " 'velocity(mm/sec)',\n",
       " 'heading(degrees)',\n",
       " 'dx1(tics)',\n",
       " 'dy1(tics)',\n",
       " 'dx2(tics)',\n",
       " 'dy2(tics)',\n",
       " 'collision(mm)',\n",
       " 'punishment(mm']"
      ]
     },
     "execution_count": 9,
     "metadata": {},
     "output_type": "execute_result"
    }
   ],
   "source": [
    "with open(expDir + FODataFile) as FOf:\n",
    "    lines = FOf.read().splitlines()\n",
    "\n",
    "#find beginning of data\n",
    "firstDataLine = 0\n",
    "while(lines[firstDataLine][0] == '#'):\n",
    "    firstDataLine += 1\n",
    "\n",
    "header = lines[firstDataLine-1][1:-1].split()\n",
    "header"
   ]
  },
  {
   "cell_type": "code",
   "execution_count": 10,
   "metadata": {
    "collapsed": false
   },
   "outputs": [],
   "source": [
    "numFrames = len(lines[firstDataLine:-1])\n",
    "FOData = np.zeros((numFrames,len(header)))\n",
    "\n",
    "for line in range(numFrames):\n",
    "    FODataLine = lines[firstDataLine:-1][line].split(',')\n",
    "    for var in range(len(FODataLine)):\n",
    "        FOData[line][var] = FODataLine[var]\n"
   ]
  },
  {
   "cell_type": "code",
   "execution_count": 11,
   "metadata": {
    "collapsed": false
   },
   "outputs": [],
   "source": [
    "currHeaderLine = 0\n",
    "while(lines[currHeaderLine][0] == '#'):\n",
    "    \n",
    "    if(lines[currHeaderLine].split(' ')[1] == 'Scene'):\n",
    "        coordFile = lines[currHeaderLine].split(' ')[-1].split('/')[-1]\n",
    "        coordFile = coordFile[0:-3] + 'coords'\n",
    "    currHeaderLine += 1\n",
    "    "
   ]
  },
  {
   "cell_type": "code",
   "execution_count": 12,
   "metadata": {
    "collapsed": false
   },
   "outputs": [],
   "source": [
    "with open(coordFile) as Coof:   #coordFile = 'singleObjectForest_1cm4cmCone_12cmHex_p2.coords'\n",
    "    lines = Coof.read().splitlines()\n",
    "    \n",
    "visibleObjectCoords = np.zeros((2,len(lines)))\n",
    "\n",
    "for line in range(len(lines)):\n",
    "    currObject = lines[line].split(' ')\n",
    "    \n",
    "    if(len(currObject) < 3 or currObject[0][0] == '_'):\n",
    "        continue\n",
    "        \n",
    "    if(currObject[0] == 'Origin'):\n",
    "        origin = [float(currObject[2]),float(currObject[3])]\n",
    "        \n",
    "    visibleObjectCoords[0,line] = float(currObject[2])\n",
    "    visibleObjectCoords[1,line] = float(currObject[3])"
   ]
  },
  {
   "cell_type": "code",
   "execution_count": 13,
   "metadata": {
    "collapsed": false
   },
   "outputs": [
    {
     "ename": "NameError",
     "evalue": "name 'myAxisTheme' is not defined",
     "output_type": "error",
     "traceback": [
      "\u001b[0;31m---------------------------------------------------------------------------\u001b[0m",
      "\u001b[0;31mNameError\u001b[0m                                 Traceback (most recent call last)",
      "\u001b[0;32m<ipython-input-13-c3989a42389e>\u001b[0m in \u001b[0;36m<module>\u001b[0;34m()\u001b[0m\n\u001b[1;32m      6\u001b[0m \u001b[0max\u001b[0m \u001b[0;34m=\u001b[0m \u001b[0mtstpfig\u001b[0m\u001b[0;34m.\u001b[0m\u001b[0madd_subplot\u001b[0m\u001b[0;34m(\u001b[0m\u001b[0;36m121\u001b[0m\u001b[0;34m)\u001b[0m\u001b[0;34m\u001b[0m\u001b[0m\n\u001b[1;32m      7\u001b[0m \u001b[0max\u001b[0m\u001b[0;34m.\u001b[0m\u001b[0mplot\u001b[0m\u001b[0;34m(\u001b[0m\u001b[0mFOData\u001b[0m\u001b[0;34m[\u001b[0m\u001b[0;36m0\u001b[0m\u001b[0;34m:\u001b[0m\u001b[0;34m-\u001b[0m\u001b[0;36m2\u001b[0m\u001b[0;34m,\u001b[0m\u001b[0;36m0\u001b[0m\u001b[0;34m]\u001b[0m\u001b[0;34m,\u001b[0m\u001b[0mlogStep\u001b[0m\u001b[0;34m.\u001b[0m\u001b[0mastype\u001b[0m\u001b[0;34m(\u001b[0m\u001b[0;34m'float'\u001b[0m\u001b[0;34m)\u001b[0m\u001b[0;34m,\u001b[0m\u001b[0;34m'.'\u001b[0m\u001b[0;34m)\u001b[0m\u001b[0;34m;\u001b[0m\u001b[0;34m\u001b[0m\u001b[0m\n\u001b[0;32m----> 8\u001b[0;31m \u001b[0mmyAxisTheme\u001b[0m\u001b[0;34m(\u001b[0m\u001b[0max\u001b[0m\u001b[0;34m)\u001b[0m\u001b[0;34m\u001b[0m\u001b[0m\n\u001b[0m\u001b[1;32m      9\u001b[0m \u001b[0;34m\u001b[0m\u001b[0m\n\u001b[1;32m     10\u001b[0m \u001b[0max\u001b[0m \u001b[0;34m=\u001b[0m \u001b[0mtstpfig\u001b[0m\u001b[0;34m.\u001b[0m\u001b[0madd_subplot\u001b[0m\u001b[0;34m(\u001b[0m\u001b[0;36m122\u001b[0m\u001b[0;34m)\u001b[0m\u001b[0;34m\u001b[0m\u001b[0m\n",
      "\u001b[0;31mNameError\u001b[0m: name 'myAxisTheme' is not defined"
     ]
    },
    {
     "data": {
      "image/png": "[encoded data removed]",
      "text/plain": [
       "<matplotlib.figure.Figure at 0x10c4c8d50>"
      ]
     },
     "metadata": {},
     "output_type": "display_data"
    }
   ],
   "source": [
    "# Plot time step\n",
    "logStep = FOData[1:-1,0]-FOData[0:-2,0]\n",
    "\n",
    "tstpfig = plt.figure(figsize = (10,4))\n",
    "tstpfig.suptitle('FlyOver log-times, mean time step = ' + str(np.mean(logStep*1000.0)) + 'ms', fontsize = 12)\n",
    "ax = tstpfig.add_subplot(121)\n",
    "ax.plot(FOData[0:-2,0],logStep.astype('float'),'.');\n",
    "myAxisTheme(ax)\n",
    "\n",
    "ax = tstpfig.add_subplot(122)\n",
    "ax.hist(logStep,50);\n",
    "myAxisTheme(ax)\n",
    "\n",
    "tstpfig.savefig(FODataFile[0:-4] + '_timeStepPlot.pdf', format = 'pdf')"
   ]
  },
  {
   "cell_type": "code",
   "execution_count": null,
   "metadata": {
    "collapsed": false
   },
   "outputs": [],
   "source": [
    "tStart = 0\n",
    "tEnd = len(FOData[:,1])\n",
    "tStep = 72\n",
    "frameRange = range(tStart,tEnd,tStep)\n",
    "colMap = 'Accent' #'nipy_spectral'\n",
    "\n",
    "trajfig = plt.figure(figsize=(10,10))\n",
    "gs = gridspec.GridSpec(2,1,height_ratios=np.hstack((10,1)))\n",
    "sns.set_style('ticks')\n",
    "\n",
    "axTraj = trajfig.add_subplot(gs[0]) #trace plot\n",
    "axTime = trajfig.add_subplot(gs[1]) #time line\n",
    "plotPosInRange(axTraj,axTime,frameRange,FOData[:,0],FOData[:,1],FOData[:,2],np.pi/180*FOData[:,5],colMap,15,0.5)\n",
    "axTraj.set_ylabel(header[1],fontsize=12)\n",
    "axTraj.set_xlabel(header[2],fontsize=12)  \n",
    "axTraj.set_title(FODataFile[0:-4])\n",
    "\n",
    "axTime.set_xlabel(header[0],fontsize=12)  \n",
    "myAxisTheme(axTraj)\n",
    "timeAxisTheme(axTime)\n",
    "\n",
    "trajfig.savefig(FODataFile[0:-4] + '_tracePlot.pdf', format = 'pdf')"
   ]
  },
  {
   "cell_type": "code",
   "execution_count": null,
   "metadata": {
    "collapsed": false
   },
   "outputs": [],
   "source": [
    "tStart = 0\n",
    "tEnd = len(FOData[:,1])\n",
    "tStep = 72\n",
    "frameRange = range(tStart,tEnd,tStep)\n",
    "colMap = 'Accent' #'nipy_spectral'\n",
    "\n",
    "trajfig = plt.figure(figsize=(10,10))\n",
    "gs = gridspec.GridSpec(2,1,height_ratios=np.hstack((10,1)))\n",
    "sns.set_style('ticks')\n",
    "\n",
    "axTraj = trajfig.add_subplot(gs[0]) #trace plot\n",
    "axTime = trajfig.add_subplot(gs[1]) #time line\n",
    "plotPosInRange(axTraj,axTime,frameRange,FOData[:,0],FOData[:,1],FOData[:,2],np.pi/180*FOData[:,5],colMap,15,0.5)\n",
    "axTraj.plot(visibleObjectCoords[0,:],visibleObjectCoords[1,:],marker='o',markersize=10,linestyle='none',\n",
    "            alpha=0.5,color='black') \n",
    "\n",
    "axTraj.set_ylabel(header[1],fontsize=12)\n",
    "axTraj.set_xlabel(header[2],fontsize=12)  \n",
    "axTraj.set_title(FODataFile[0:-4])\n",
    "axTraj.set_xlim([min(FOData[:,1]) - 50, max(FOData[:,1]) + 50])\n",
    "axTraj.set_ylim([min(FOData[:,2]) - 50, max(FOData[:,2]) + 50])\n",
    "\n",
    "axTime.set_xlabel(header[0],fontsize=12)  \n",
    "myAxisTheme(axTraj)\n",
    "timeAxisTheme(axTime)\n",
    "\n",
    "trajfig.savefig(FODataFile[0:-4] + '_traceObjectPlot.pdf', format = 'pdf')"
   ]
  },
  {
   "cell_type": "markdown",
   "metadata": {},
   "source": [
    "### Functions"
   ]
  },
  {
   "cell_type": "code",
   "execution_count": 33,
   "metadata": {
    "collapsed": true
   },
   "outputs": [],
   "source": [
    "def myAxisTheme(myax):\n",
    "    myax.get_xaxis().tick_bottom()\n",
    "    myax.get_yaxis().tick_left()\n",
    "    myax.spines['top'].set_visible(False)\n",
    "    myax.spines['right'].set_visible(False)"
   ]
  },
  {
   "cell_type": "code",
   "execution_count": 34,
   "metadata": {
    "collapsed": true
   },
   "outputs": [],
   "source": [
    "def timeAxisTheme(tax):\n",
    "    tax.spines['top'].set_visible(False)\n",
    "    tax.spines['right'].set_visible(False)\n",
    "    tax.spines['left'].set_visible(False)\n",
    "    tax.tick_params(\n",
    "        axis='y',          # changes apply to the x-axis\n",
    "        which='both',      # both major and minor ticks are affected\n",
    "        left='off',      # ticks along the bottom edge are off\n",
    "        right='off',         # ticks along the top edge are off\n",
    "        labelleft='off')"
   ]
  },
  {
   "cell_type": "code",
   "execution_count": 35,
   "metadata": {
    "collapsed": false
   },
   "outputs": [],
   "source": [
    "def plotPosInRange(ax1,ax2,frameRange,time,xPos,yPos,angle,currCmap,arrowScale,alphaValue):\n",
    "    cNorm  = colors.Normalize(vmin=-0.5*len(frameRange), vmax=1*len(frameRange))\n",
    "    scalarMap = plt.cm.ScalarMappable(norm=cNorm,cmap=currCmap)\n",
    "\n",
    "    for ind, frame in enumerate(frameRange):\n",
    "        currCol=scalarMap.to_rgba(ind)\n",
    "        if alphaValue < 0:\n",
    "            alphaVal = 1.0-1.0*ind/len(frameRange)\n",
    "        else:\n",
    "            alphaVal = alphaValue\n",
    "        \n",
    "        ax1.plot(xPos[frame],yPos[frame],marker='.',markersize=5,linestyle='none',alpha=alphaVal,\n",
    "                color=currCol) \n",
    "        plotBodyAngle(ax1,xPos[frame],yPos[frame],angle[frame],currCol,alphaVal,arrowScale*0.75)\n",
    "        \n",
    "        ax2.plot(time[frame],1,marker='.',markersize=10,linestyle='none',\n",
    "                 alpha=alphaVal,color=currCol)\n",
    "        \n",
    "    ax1.set_aspect('equal')\n",
    "    ax2.set_ylim([0.9, 1.1])\n",
    "    sns.despine(right=True,offset = 0)#trim=True)\n",
    "    sns.axes_style({'axes.linewidth': 1, 'axes.edgecolor': '.8',})"
   ]
  },
  {
   "cell_type": "code",
   "execution_count": 36,
   "metadata": {
    "collapsed": false
   },
   "outputs": [],
   "source": [
    "def plotBodyAngle(ax,x,y,angle,markerColor,alphaVal,arrowScale):\n",
    "    try:\n",
    "        newArrow = patches.Arrow(x,y,np.cos(angle).squeeze()*arrowScale,np.sin(angle).squeeze()*arrowScale, width=2,\n",
    "                                edgecolor = markerColor,alpha = alphaVal)\n",
    "        ax.add_patch(newArrow)\n",
    "    except:\n",
    "        couldNotPrint = True"
   ]
  },
  {
   "cell_type": "code",
   "execution_count": null,
   "metadata": {
    "collapsed": true
   },
   "outputs": [],
   "source": []
  },
  {
   "cell_type": "code",
   "execution_count": null,
   "metadata": {
    "collapsed": true
   },
   "outputs": [],
   "source": []
  }
 ],
 "metadata": {
  "kernelspec": {
   "display_name": "Python 2",
   "language": "python",
   "name": "python2"
  },
  "language_info": {
   "codemirror_mode": {
    "name": "ipython",
    "version": 2
   },
   "file_extension": ".py",
   "mimetype": "text/x-python",
   "name": "python",
   "nbconvert_exporter": "python",
   "pygments_lexer": "ipython2",
   "version": "2.7.10"
  }
 },
 "nbformat": 4,
 "nbformat_minor": 0
}
